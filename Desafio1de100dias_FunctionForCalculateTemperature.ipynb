{
 "cells": [
  {
   "cell_type": "markdown",
   "id": "cd3209bc",
   "metadata": {},
   "source": [
    "![Termometro](https://static.vecteezy.com/ti/vetor-gratis/p2/4435811-termometro-medicao-temperatura-quente-e-fria-escala-de-temperatura-de-verde-para-vermelho-vetor.jpg)"
   ]
  },
  {
   "cell_type": "markdown",
   "id": "4068b275",
   "metadata": {},
   "source": [
    "Faça um Programa que peça a temperatura em graus Fahrenheit, transforme e mostre a temperatura em graus Celsius e Kelvin.\n",
    "$$ C = 5 * ((F-32) / 9) $$\n",
    "$$ K = C + 273 $$"
   ]
  },
  {
   "cell_type": "code",
   "execution_count": 1,
   "id": "e09a1ec4",
   "metadata": {},
   "outputs": [],
   "source": [
    "def ConversorDeTemperatura():\n",
    "    TemperaturaFahrenheit = int(input('Digite a temperatura em Fahrenheit: '))\n",
    "    GrausCeulsius = round(5 * ((TemperaturaFahrenheit - 32) / 9),2)\n",
    "    GrausKelvin = (GrausCeulsius + 273)\n",
    "    return print(f'A Temperatura em Graus Ceusius é {GrausCeulsius} e em Kelvin é de {GrausKelvin}.')"
   ]
  },
  {
   "cell_type": "code",
   "execution_count": 2,
   "id": "dfa8dc92",
   "metadata": {},
   "outputs": [
    {
     "name": "stdout",
     "output_type": "stream",
     "text": [
      "Digite a temperatura em Fahrenheit: 200\n",
      "A Temperatura em Graus Ceusius é 93.33 e em Kelvin é de 366.33.\n"
     ]
    }
   ],
   "source": [
    "ConversorDeTemperatura()"
   ]
  }
 ],
 "metadata": {
  "kernelspec": {
   "display_name": "Python 3 (ipykernel)",
   "language": "python",
   "name": "python3"
  },
  "language_info": {
   "codemirror_mode": {
    "name": "ipython",
    "version": 3
   },
   "file_extension": ".py",
   "mimetype": "text/x-python",
   "name": "python",
   "nbconvert_exporter": "python",
   "pygments_lexer": "ipython3",
   "version": "3.9.6"
  }
 },
 "nbformat": 4,
 "nbformat_minor": 5
}
